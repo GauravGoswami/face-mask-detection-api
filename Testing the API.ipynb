{
 "cells": [
  {
   "cell_type": "code",
   "execution_count": 1,
   "id": "577b6f05",
   "metadata": {},
   "outputs": [
    {
     "name": "stdout",
     "output_type": "stream",
     "text": [
      "{'Results': [[200, 365, 438, 110, 213, 0.9999737739562988], [200, 482, 568, 159, 281, 0.9995775818824768], [200, 245, 322, 231, 350, 0.9997957348823547], [200, 137, 210, 190, 295, 0.9998052716255188]], 'Status': 'Success'}\n"
     ]
    }
   ],
   "source": [
    "import requests\n",
    "\n",
    "URL = \"http://localhost:8190/api/predict\" # your API URL here\n",
    "img_file = \"./test_images/pexels-photo-3957987.jpeg\" # path to the image file\n",
    "\n",
    "img = {'image': open(img_file, 'rb')}\n",
    "\n",
    "response = requests.post(URL, files=img)\n",
    "\n",
    "try:\n",
    "    print(response.json())\n",
    "except:\n",
    "    print(response.content)"
   ]
  },
  {
   "cell_type": "code",
   "execution_count": null,
   "id": "b36d04e7",
   "metadata": {},
   "outputs": [],
   "source": []
  }
 ],
 "metadata": {
  "kernelspec": {
   "display_name": "Python 3",
   "language": "python",
   "name": "python3"
  },
  "language_info": {
   "codemirror_mode": {
    "name": "ipython",
    "version": 3
   },
   "file_extension": ".py",
   "mimetype": "text/x-python",
   "name": "python",
   "nbconvert_exporter": "python",
   "pygments_lexer": "ipython3",
   "version": "3.8.5"
  }
 },
 "nbformat": 4,
 "nbformat_minor": 5
}
